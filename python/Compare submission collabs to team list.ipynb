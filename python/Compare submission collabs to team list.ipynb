{
 "cells": [
  {
   "cell_type": "code",
   "execution_count": 1,
   "metadata": {
    "collapsed": true
   },
   "outputs": [],
   "source": [
    "import pandas\n",
    "import synapseclient\n",
    "\n",
    "syn = synapseclient.login(silent=True)"
   ]
  },
  {
   "cell_type": "code",
   "execution_count": 2,
   "metadata": {
    "collapsed": false
   },
   "outputs": [],
   "source": [
    "e = syn.getEvaluation(4484862)"
   ]
  },
  {
   "cell_type": "code",
   "execution_count": 3,
   "metadata": {
    "collapsed": false
   },
   "outputs": [],
   "source": [
    "regListObj = syn.get('syn4550116')\n",
    "regList = pandas.read_csv(regListObj.path)"
   ]
  },
  {
   "cell_type": "code",
   "execution_count": 4,
   "metadata": {
    "collapsed": true
   },
   "outputs": [],
   "source": [
    "sb = syn.getSubmissionBundles(e, status=\"VALIDATED\")"
   ]
  },
  {
   "cell_type": "code",
   "execution_count": 12,
   "metadata": {
    "collapsed": false
   },
   "outputs": [],
   "source": [
    "teams = dict()\n",
    "contribs = dict()\n",
    "\n",
    "for (submission, status) in sb:\n",
    "    try:\n",
    "        teamId = submission.teamId\n",
    "        teamMembers = set([(teamId, x.member.userName) for x in syn.getTeamMembers(teamId)])\n",
    "        contribMembers = set([syn.getUserProfile(x.principalId).userName for x in submission.contributors])\n",
    "    except:\n",
    "        teamId = submission.userId\n",
    "        teamMembers = set([(teamId, syn.getUserProfile(teamId).userName)])\n",
    "        contribMembers = teamMembers\n",
    "    \n",
    "    teams[submission.id] = teamMembers\n",
    "    contribs[submission.id] = contribMembers"
   ]
  },
  {
   "cell_type": "code",
   "execution_count": 16,
   "metadata": {
    "collapsed": false
   },
   "outputs": [
    {
     "name": "stdout",
     "output_type": "stream",
     "text": [
      "5689016 set([])\n",
      "5689567 set([])\n",
      "5690700 set([])\n",
      "5689541 set([])\n",
      "5689037 set([])\n",
      "5689522 set([])\n",
      "5689554 set([])\n",
      "5690197 set([])\n",
      "5689583 set([])\n",
      "5690384 set([])\n",
      "5691694 set([])\n",
      "5691630 set([])\n",
      "5689218 set([])\n",
      "5688915 set([])\n",
      "5688900 set([])\n",
      "5689980 set([])\n",
      "5689453 set([])\n"
     ]
    }
   ],
   "source": [
    "for k in teams.iterkeys():\n",
    "    print k, contribs[k].difference(teams[k])"
   ]
  }
 ],
 "metadata": {
  "kernelspec": {
   "display_name": "Python 2",
   "language": "python",
   "name": "python2"
  },
  "language_info": {
   "codemirror_mode": {
    "name": "ipython",
    "version": 2
   },
   "file_extension": ".py",
   "mimetype": "text/x-python",
   "name": "python",
   "nbconvert_exporter": "python",
   "pygments_lexer": "ipython2",
   "version": "2.7.8"
  }
 },
 "nbformat": 4,
 "nbformat_minor": 0
}

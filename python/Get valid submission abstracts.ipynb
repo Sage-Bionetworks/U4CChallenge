{
 "cells": [
  {
   "cell_type": "code",
   "execution_count": 1,
   "metadata": {
    "collapsed": true
   },
   "outputs": [],
   "source": [
    "import pandas\n",
    "import synapseclient\n",
    "import random\n",
    "import csv\n",
    "\n",
    "syn = synapseclient.login(silent=True)"
   ]
  },
  {
   "cell_type": "code",
   "execution_count": 2,
   "metadata": {
    "collapsed": true
   },
   "outputs": [],
   "source": [
    "def findAbstract(parentId, syn):\n",
    "    r = syn.query('select id,name from folder where parentId==\"%s\"' % (parentId, ))\n",
    "    r = filter(lambda x: x['folder.name'] == \"Abstract\", r['results'])\n",
    "\n",
    "    if len(r) > 0:\n",
    "        return r[0]['folder.id']\n",
    "    else:\n",
    "        return None\n",
    "\n",
    "def get_abstract(projectId, syn):\n",
    "    abstractId = findAbstract(projectId,  syn)\n",
    "    w = syn.getWiki(abstractId)\n",
    "    return w['markdown']"
   ]
  },
  {
   "cell_type": "code",
   "execution_count": 3,
   "metadata": {
    "collapsed": false
   },
   "outputs": [],
   "source": [
    "e = syn.getEvaluation(4484862)"
   ]
  },
  {
   "cell_type": "code",
   "execution_count": 4,
   "metadata": {
    "collapsed": true
   },
   "outputs": [],
   "source": [
    "sb = syn.getSubmissionBundles(e, status=\"VALIDATED\")"
   ]
  },
  {
   "cell_type": "code",
   "execution_count": 5,
   "metadata": {
    "collapsed": false
   },
   "outputs": [],
   "source": [
    "abstracts = {x.id: get_abstract(x.entityId, syn) for (x, status) in sb}"
   ]
  },
  {
   "cell_type": "code",
   "execution_count": 6,
   "metadata": {
    "collapsed": false
   },
   "outputs": [],
   "source": [
    "nums = range(len(abstracts))\n",
    "random.shuffle(nums)"
   ]
  },
  {
   "cell_type": "code",
   "execution_count": 7,
   "metadata": {
    "collapsed": false
   },
   "outputs": [],
   "source": [
    "def formatWiki(idnum, wMarkdown):\n",
    "    return \"## %s\\n%s\\n\" % (idnum, wMarkdown)\n",
    "\n",
    "abstractsWikiMarkdown = \"\"\n",
    "\n",
    "for (n, (submissionId, wMarkdown)) in enumerate(abstracts.iteritems()):\n",
    "    abstractsWikiMarkdown += formatWiki(nums[n], wMarkdown)\n",
    " "
   ]
  },
  {
   "cell_type": "code",
   "execution_count": 8,
   "metadata": {
    "collapsed": false
   },
   "outputs": [],
   "source": [
    "f = syn.store(synapseclient.Folder(name=\"Validated Submission Abstracts\", parentId=\"syn4597738\"))\n",
    "\n",
    "try:\n",
    "    w = syn.getWiki(owner=f)\n",
    "except:\n",
    "    w = synapseclient.Wiki(owner=f)\n",
    "\n",
    "w.markdown = abstractsWikiMarkdown\n",
    "\n",
    "w = syn.store(w)"
   ]
  },
  {
   "cell_type": "code",
   "execution_count": 9,
   "metadata": {
    "collapsed": false
   },
   "outputs": [
    {
     "name": "stdout",
     "output_type": "stream",
     "text": [
      "\n",
      "##################################################\n",
      " Uploading file to Synapse storage \n",
      "##################################################\n",
      "Uploading [####################]100.00%     170.0bytes/170.0bytes abstract_key_mapping.csv Done...\n",
      "    "
     ]
    }
   ],
   "source": [
    "with file(\"abstract_key_mapping.csv\", \"w\") as of:\n",
    "    wr = csv.writer(of)\n",
    "\n",
    "    for (n, k) in enumerate(abstracts.keys()):\n",
    "        wr.writerow([nums[n], k])\n",
    "\n",
    "fmap = syn.store(synapseclient.File(\"abstract_key_mapping.csv\", parentId=f.id))"
   ]
  }
 ],
 "metadata": {
  "kernelspec": {
   "display_name": "Python 2",
   "language": "python",
   "name": "python2"
  },
  "language_info": {
   "codemirror_mode": {
    "name": "ipython",
    "version": 2
   },
   "file_extension": ".py",
   "mimetype": "text/x-python",
   "name": "python",
   "nbconvert_exporter": "python",
   "pygments_lexer": "ipython2",
   "version": "2.7.8"
  }
 },
 "nbformat": 4,
 "nbformat_minor": 0
}

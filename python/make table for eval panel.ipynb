{
 "cells": [
  {
   "cell_type": "code",
   "execution_count": 1,
   "metadata": {
    "collapsed": true
   },
   "outputs": [],
   "source": [
    "import pandas\n",
    "import synapseclient\n",
    "import random\n",
    "import csv\n",
    "\n",
    "syn = synapseclient.login(silent=True)\n",
    "\n"
   ]
  },
  {
   "cell_type": "code",
   "execution_count": 5,
   "metadata": {
    "collapsed": false
   },
   "outputs": [],
   "source": [
    "with file(\"abstract_key_mapping.csv\") as f:\n",
    "    mapping = {x[1]: x[0] for x in csv.reader(f)}"
   ]
  },
  {
   "cell_type": "code",
   "execution_count": 24,
   "metadata": {
    "collapsed": false
   },
   "outputs": [],
   "source": [
    "folders = syn.query(\"select id, name from folder where projectId=='syn5478314'\")['results']"
   ]
  },
  {
   "cell_type": "code",
   "execution_count": 25,
   "metadata": {
    "collapsed": false
   },
   "outputs": [],
   "source": [
    "for f in folders:\n",
    "    f['submissionId'] = f['folder.name'].split(\"_\")[1]"
   ]
  },
  {
   "cell_type": "code",
   "execution_count": 26,
   "metadata": {
    "collapsed": false
   },
   "outputs": [],
   "source": [
    "folders = {\"syn%s\" % x['submissionId']:x for x in folders}"
   ]
  },
  {
   "cell_type": "code",
   "execution_count": 27,
   "metadata": {
    "collapsed": false
   },
   "outputs": [
    {
     "data": {
      "text/plain": [
       "{u'syn5320777': {u'folder.id': u'syn5736890',\n",
       "  u'folder.name': u'U4CRev_5320777',\n",
       "  'submissionId': u'5320777'},\n",
       " u'syn5605838': {u'folder.id': u'syn5736861',\n",
       "  u'folder.name': u'U4CRev_5605838',\n",
       "  'submissionId': u'5605838'},\n",
       " u'syn5612192': {u'folder.id': u'syn5736910',\n",
       "  u'folder.name': u'U4CRev_5612192',\n",
       "  'submissionId': u'5612192'},\n",
       " u'syn5644653': {u'folder.id': u'syn5736604',\n",
       "  u'folder.name': u'U4CRev_5644653',\n",
       "  'submissionId': u'5644653'},\n",
       " u'syn5644804': {u'folder.id': u'syn5736586',\n",
       "  u'folder.name': u'U4CRev_5644804',\n",
       "  'submissionId': u'5644804'},\n",
       " u'syn5647620': {u'folder.id': u'syn5736875',\n",
       "  u'folder.name': u'U4CRev_5647620',\n",
       "  'submissionId': u'5647620'},\n",
       " u'syn5650507': {u'folder.id': u'syn5736822',\n",
       "  u'folder.name': u'U4CRev_5650507',\n",
       "  'submissionId': u'5650507'},\n",
       " u'syn5678710': {u'folder.id': u'syn5736902',\n",
       "  u'folder.name': u'U4CRev_5678710',\n",
       "  'submissionId': u'5678710'},\n",
       " u'syn5678811': {u'folder.id': u'syn5736833',\n",
       "  u'folder.name': u'U4CRev_5678811',\n",
       "  'submissionId': u'5678811'},\n",
       " u'syn5679487': {u'folder.id': u'syn5736930',\n",
       "  u'folder.name': u'U4CRev_5679487',\n",
       "  'submissionId': u'5679487'},\n",
       " u'syn5681547': {u'folder.id': u'syn5736895',\n",
       "  u'folder.name': u'U4CRev_5681547',\n",
       "  'submissionId': u'5681547'},\n",
       " u'syn5682310': {u'folder.id': u'syn5736596',\n",
       "  u'folder.name': u'U4CRev_5682310',\n",
       "  'submissionId': u'5682310'},\n",
       " u'syn5684263': {u'folder.id': u'syn5736841',\n",
       "  u'folder.name': u'U4CRev_5684263',\n",
       "  'submissionId': u'5684263'},\n",
       " u'syn5684392': {u'folder.id': u'syn5736855',\n",
       "  u'folder.name': u'U4CRev_5684392',\n",
       "  'submissionId': u'5684392'},\n",
       " u'syn5688892': {u'folder.id': u'syn5736938',\n",
       "  u'folder.name': u'U4CRev_5688892',\n",
       "  'submissionId': u'5688892'}}"
      ]
     },
     "execution_count": 27,
     "metadata": {},
     "output_type": "execute_result"
    }
   ],
   "source": [
    "folders"
   ]
  },
  {
   "cell_type": "code",
   "execution_count": 33,
   "metadata": {
    "collapsed": false
   },
   "outputs": [
    {
     "name": "stdout",
     "output_type": "stream",
     "text": [
      "1 | 13 | Inference of candidate causal variants within transcription factor binding sites | 5688523 | syn5644804 | [U4CRev_5644804](syn5736586)\n",
      "2 | 9 | Association of X-chromosome Genetic Variants and Breast Cancer Risk | 5688915 | syn5644653 | [U4CRev_5644653](syn5736604)\n",
      "3 | 8 | Prediction of Breast cancer status using X- Chromosome genetic variants | 5689016 | syn5682310 | [U4CRev_5682310](syn5736596)\n",
      "4 | 10 | Haplotype associations in Shanghai breast cancer study (up for a challenge) | 5689218 | syn5650507 | [U4CRev_5650507](syn5736822)\n",
      "5 | 5 | U4C breast cancer challenge | 5689453 | syn5678811 | [U4CRev_5678811](syn5736833)\n",
      "6 | 6 | Identifying Novel Genes And Pathways For Breast Cancer with Semiparametric Modeling | 5689522 | syn5684263 | [U4CRev_5684263](syn5736841)\n",
      "7 | 7 | Team UCSF Up for a Challenge Submission | 5689554 | syn5684392 | [U4CRev_5684392](syn5736855)\n",
      "8 | 4 | Identify breast cancer pathways using Iscore screening | 5689567 | syn5605838 | [U4CRev_5605838](syn5736861)\n",
      "9 | 14 | Data Mining of Genome-Wide Association Studies for New Hypotheses on the Possible Effect of Pathways on Breast Cancer Risk | 5689583 | syn5647620 | [U4CRev_5647620](syn5736875)\n",
      "10 | 3 | Novel genetic variants of breast cancer - SNPs, genes, and gene-gene interactions | 5689980 | syn5320777 | [U4CRev_5320777](syn5736890)\n",
      "11 | 0 | UChicago Maroons Project for U4C | 5690197 | syn5681547 | [U4CRev_5681547](syn5736895)\n",
      "12 | 12 | Breast Cancer muGWAS | 5690384 | syn5678710 | [U4CRev_5678710](syn5736902)\n",
      "13 | 11 | U4C | 5690700 | syn5612192 | [U4CRev_5612192](syn5736910)\n",
      "14 | 1 | Genetic interactions in Breast Cancer | 5691630 | syn5679487 | [U4CRev_5679487](syn5736930)\n",
      "15 | 2 | Multi-Ethnic Meta-Analysis and Fine Mapping in Breast Cancer | 5691694 | syn5688892 | [U4CRev_5688892](syn5736938)\n"
     ]
    }
   ],
   "source": [
    "e = syn.getEvaluation(4484862)\n",
    "\n",
    "sb = syn.getSubmissionBundles(e, status=\"VALIDATED\")\n",
    "\n",
    "for (n, (x, status)) in enumerate(sb):\n",
    "    p = syn.get(x.entityId, downloadFile=False)\n",
    "    t = syn.getTeam()\n",
    "    print \" | \".join([str(n + 1), mapping[x.id], p.name, x.id, x.entityId, \"[%s](%s)\" % (folders[x.entityId]['folder.name'], folders[x.entityId]['folder.id'])])"
   ]
  }
 ],
 "metadata": {
  "kernelspec": {
   "display_name": "Python 2",
   "language": "python",
   "name": "python2"
  },
  "language_info": {
   "codemirror_mode": {
    "name": "ipython",
    "version": 2
   },
   "file_extension": ".py",
   "mimetype": "text/x-python",
   "name": "python",
   "nbconvert_exporter": "python",
   "pygments_lexer": "ipython2",
   "version": "2.7.8"
  }
 },
 "nbformat": 4,
 "nbformat_minor": 0
}
